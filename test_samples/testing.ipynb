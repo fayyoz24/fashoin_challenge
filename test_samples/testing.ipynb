{
 "cells": [
  {
   "cell_type": "code",
   "execution_count": 1,
   "metadata": {},
   "outputs": [],
   "source": [
    "import numpy as np\n",
    "import pandas as pd\n",
    "import matplotlib.pyplot as plt\n",
    "\n",
    "import torch\n",
    "import torch.nn.functional as F\n",
    "from torch import nn, optim\n",
    "from torchvision import datasets, transforms\n",
    "from torch.utils.data import DataLoader"
   ]
  },
  {
   "cell_type": "code",
   "execution_count": 2,
   "metadata": {},
   "outputs": [],
   "source": [
    "\n",
    "# Define a transform to normalize the data\n",
    "transform = transforms.Compose([transforms.ToTensor(),\n",
    "                                transforms.Normalize((0.5,), (0.5,))])\n",
    "# Download and load the training data\n",
    "trainset = datasets.FashionMNIST('~/.pytorch/F_MNIST_data/', download=True, train=True, transform=transform)\n",
    "trainloader = torch.utils.data.DataLoader(trainset, batch_size=64, shuffle=True)\n",
    "\n",
    "# Download and load the test data\n",
    "testset = datasets.FashionMNIST('~/.pytorch/F_MNIST_data/', download=True, train=False, transform=transform)\n",
    "testloader = torch.utils.data.DataLoader(testset, batch_size=64, shuffle=True)"
   ]
  },
  {
   "cell_type": "code",
   "execution_count": 3,
   "metadata": {},
   "outputs": [],
   "source": [
    "def imshow(image, ax=None, title=None, normalize=True):\n",
    "    \"\"\"Imshow for Tensor.\"\"\"\n",
    "    if ax is None:\n",
    "        fig, ax = plt.subplots()\n",
    "    image = image.numpy().transpose((1, 2, 0))\n",
    "\n",
    "    if normalize:\n",
    "        mean = np.array([0.485, 0.456, 0.406])\n",
    "        std = np.array([0.229, 0.224, 0.225])\n",
    "        image = std * image + mean\n",
    "        image = np.clip(image, 0, 1)\n",
    "\n",
    "    ax.imshow(image)\n",
    "    ax.spines['top'].set_visible(False)\n",
    "    ax.spines['right'].set_visible(False)\n",
    "    ax.spines['left'].set_visible(False)\n",
    "    ax.spines['bottom'].set_visible(False)\n",
    "    ax.tick_params(axis='both', length=0)\n",
    "    ax.set_xticklabels('')\n",
    "    ax.set_yticklabels('')\n",
    "\n",
    "    return ax\n",
    "\n",
    "def view_classify(img, ps, version=\"MNIST\"):\n",
    "    ''' Function for viewing an image and it's predicted classes.\n",
    "    '''\n",
    "    ps = ps.data.numpy().squeeze()\n",
    "\n",
    "    fig, (ax1, ax2) = plt.subplots(figsize=(6,9), ncols=2)\n",
    "    ax1.imshow(img.resize_(1, 28, 28).numpy().squeeze())\n",
    "    ax1.axis('off')\n",
    "    ax2.barh(np.arange(10), ps)\n",
    "    ax2.set_aspect(0.1)\n",
    "    ax2.set_yticks(np.arange(10))\n",
    "    if version == \"MNIST\":\n",
    "        ax2.set_yticklabels(np.arange(10))\n",
    "    elif version == \"Fashion\":\n",
    "        ax2.set_yticklabels(['T-shirt/top',\n",
    "                            'Trouser',\n",
    "                            'Pullover',\n",
    "                            'Dress',\n",
    "                            'Coat',\n",
    "                            'Sandal',\n",
    "                            'Shirt',\n",
    "                            'Sneaker',\n",
    "                            'Bag',\n",
    "                            'Ankle Boot'], size='small')\n",
    "    ax2.set_title('Class Probability')\n",
    "    ax2.set_xlim(0, 1.1)\n",
    "\n",
    "    plt.tight_layout()"
   ]
  },
  {
   "cell_type": "code",
   "execution_count": 4,
   "metadata": {},
   "outputs": [],
   "source": [
    "class Network(nn.Module):\n",
    "\n",
    "    def __init__(self):\n",
    "        super().__init__()\n",
    "        self.fc1 = nn.Linear(784, 256)\n",
    "        self.fc2 = nn.Linear(256, 128)\n",
    "        self.fc3 = nn.Linear(128, 64)\n",
    "        self.fc4 = nn.Linear(64, 10)\n",
    "        \n",
    "    def forward(self, x):\n",
    "\n",
    "        x = x.view(x.shape[0], 784)\n",
    "\n",
    "        x = self.fc1(x)\n",
    "        x = F.relu(x)\n",
    "        x = self.fc2(x)\n",
    "        x = F.relu(x)\n",
    "        x = self.fc3(x)\n",
    "        x = F.relu(x)\n",
    "        x = self.fc4(x)\n",
    "        x = F.log_softmax(x)\n",
    "        \n",
    "        return x"
   ]
  },
  {
   "cell_type": "code",
   "execution_count": 5,
   "metadata": {},
   "outputs": [],
   "source": [
    "model = Network()\n",
    "\n",
    "criterion = nn.NLLLoss()\n",
    "optimizer = optim.SGD(model.parameters(), lr=0.1)\n",
    "\n",
    "epochs = 25"
   ]
  },
  {
   "cell_type": "code",
   "execution_count": 6,
   "metadata": {},
   "outputs": [],
   "source": [
    "def train(trainloader, model, criterion, optimizer):\n",
    "    size = len(trainloader.dataset)\n",
    "\n",
    "    model.train()\n",
    "    for i, (images, labels) in enumerate(iter(trainloader)):\n",
    "        \n",
    "        output = model(images)\n",
    "        loss = criterion(output, labels)\n",
    "\n",
    "        # backpropagation\n",
    "        optimizer.zero_grad()\n",
    "        loss.backward()\n",
    "        optimizer.step()\n",
    "\n",
    "        if i % 100 == 0:\n",
    "            loss, current = loss.item(), i * len(images)\n",
    "            # print(f\"Loss: {loss:>7f}  [{current:>5d}/{size:>5d}]\")\n",
    "            # print(f\"Loss: {loss:>7f}\")"
   ]
  },
  {
   "cell_type": "code",
   "execution_count": 7,
   "metadata": {},
   "outputs": [],
   "source": [
    "def test(testloader, model, criterion):\n",
    "    num_batches = len(testloader)\n",
    "    size = len(testloader.dataset)\n",
    "    test_loss, correct = 0, 0\n",
    "\n",
    "    model.eval()\n",
    "    with torch.no_grad():\n",
    "        for i, (images, labels) in enumerate(iter(testloader)):\n",
    "            output = model(images)\n",
    "\n",
    "            test_loss += criterion(output, labels).item()\n",
    "            correct += (output.argmax(1) == labels).type(torch.float).sum().item()\n",
    "\n",
    "        test_loss /= num_batches\n",
    "        correct /= size\n",
    "\n",
    "        if (correct*100) >= 90:\n",
    "            torch.save(model.state_dict(), 'model.pth')\n",
    "            \n",
    "        print(f\"Test Error: \\n Accuracy: {(correct*100):>0.1f}%, Avg loss: {test_loss:>8f} \\n\")"
   ]
  },
  {
   "cell_type": "code",
   "execution_count": 8,
   "metadata": {},
   "outputs": [
    {
     "name": "stdout",
     "output_type": "stream",
     "text": [
      "Epoch 1\n"
     ]
    },
    {
     "name": "stderr",
     "output_type": "stream",
     "text": [
      "C:\\Users\\shahi\\AppData\\Local\\Temp\\ipykernel_9492\\2853485193.py:21: UserWarning: Implicit dimension choice for log_softmax has been deprecated. Change the call to include dim=X as an argument.\n",
      "  x = F.log_softmax(x)\n"
     ]
    },
    {
     "name": "stdout",
     "output_type": "stream",
     "text": [
      "Test Error: \n",
      " Accuracy: 80.9%, Avg loss: 0.535965 \n",
      "\n",
      "Epoch 2\n",
      "Test Error: \n",
      " Accuracy: 84.8%, Avg loss: 0.422211 \n",
      "\n",
      "Epoch 3\n",
      "Test Error: \n",
      " Accuracy: 83.9%, Avg loss: 0.431765 \n",
      "\n",
      "Epoch 4\n",
      "Test Error: \n",
      " Accuracy: 85.9%, Avg loss: 0.385998 \n",
      "\n",
      "Epoch 5\n",
      "Test Error: \n",
      " Accuracy: 86.3%, Avg loss: 0.379469 \n",
      "\n",
      "Epoch 6\n",
      "Test Error: \n",
      " Accuracy: 85.7%, Avg loss: 0.381110 \n",
      "\n",
      "Epoch 7\n",
      "Test Error: \n",
      " Accuracy: 87.3%, Avg loss: 0.350433 \n",
      "\n",
      "Epoch 8\n",
      "Test Error: \n",
      " Accuracy: 86.4%, Avg loss: 0.376698 \n",
      "\n",
      "Epoch 9\n",
      "Test Error: \n",
      " Accuracy: 84.4%, Avg loss: 0.446720 \n",
      "\n",
      "Epoch 10\n",
      "Test Error: \n",
      " Accuracy: 87.5%, Avg loss: 0.351416 \n",
      "\n",
      "Epoch 11\n",
      "Test Error: \n",
      " Accuracy: 86.5%, Avg loss: 0.387629 \n",
      "\n",
      "Epoch 12\n",
      "Test Error: \n",
      " Accuracy: 88.3%, Avg loss: 0.326691 \n",
      "\n",
      "Epoch 13\n",
      "Test Error: \n",
      " Accuracy: 82.9%, Avg loss: 0.545267 \n",
      "\n",
      "Epoch 14\n",
      "Test Error: \n",
      " Accuracy: 88.4%, Avg loss: 0.332313 \n",
      "\n",
      "Epoch 15\n",
      "Test Error: \n",
      " Accuracy: 88.0%, Avg loss: 0.366822 \n",
      "\n",
      "Epoch 16\n",
      "Test Error: \n",
      " Accuracy: 88.2%, Avg loss: 0.346330 \n",
      "\n",
      "Epoch 17\n",
      "Test Error: \n",
      " Accuracy: 86.8%, Avg loss: 0.400261 \n",
      "\n",
      "Epoch 18\n",
      "Test Error: \n",
      " Accuracy: 88.7%, Avg loss: 0.361310 \n",
      "\n",
      "Epoch 19\n",
      "Test Error: \n",
      " Accuracy: 87.3%, Avg loss: 0.373886 \n",
      "\n",
      "Epoch 20\n",
      "Test Error: \n",
      " Accuracy: 88.4%, Avg loss: 0.367707 \n",
      "\n",
      "Epoch 21\n",
      "Test Error: \n",
      " Accuracy: 88.0%, Avg loss: 0.369754 \n",
      "\n",
      "Epoch 22\n",
      "Test Error: \n",
      " Accuracy: 88.9%, Avg loss: 0.345918 \n",
      "\n",
      "Epoch 23\n",
      "Test Error: \n",
      " Accuracy: 88.8%, Avg loss: 0.346747 \n",
      "\n",
      "Epoch 24\n",
      "Test Error: \n",
      " Accuracy: 88.1%, Avg loss: 0.392678 \n",
      "\n",
      "Epoch 25\n",
      "Test Error: \n",
      " Accuracy: 88.9%, Avg loss: 0.360668 \n",
      "\n"
     ]
    }
   ],
   "source": [
    "for t in range(epochs):\n",
    "    print(f'Epoch {t+1}')\n",
    "    train(trainloader, model, criterion, optimizer)\n",
    "    test(testloader, model, criterion)"
   ]
  },
  {
   "cell_type": "code",
   "execution_count": 55,
   "metadata": {},
   "outputs": [
    {
     "name": "stderr",
     "output_type": "stream",
     "text": [
      "C:\\Users\\shahi\\AppData\\Local\\Temp\\ipykernel_9492\\2853485193.py:21: UserWarning: Implicit dimension choice for log_softmax has been deprecated. Change the call to include dim=X as an argument.\n",
      "  x = F.log_softmax(x)\n"
     ]
    },
    {
     "data": {
      "image/png": "[encoded data removed]",
      "text/plain": [
       "<Figure size 432x648 with 2 Axes>"
      ]
     },
     "metadata": {
      "image/png": {
       "height": 216,
       "width": 424
      },
      "needs_background": "light"
     },
     "output_type": "display_data"
    }
   ],
   "source": [
    "%matplotlib inline\n",
    "%config InlineBackend.figure_format = 'retina'\n",
    "\n",
    "dataiter = iter(testloader)\n",
    "images, labels = dataiter.next()\n",
    "img = images[1]\n",
    "\n",
    "ps = model(img)\n",
    "ps = torch.exp(ps)\n",
    "\n",
    "view_classify(img, ps, version='Fashion')"
   ]
  },
  {
   "cell_type": "code",
   "execution_count": 56,
   "metadata": {},
   "outputs": [
    {
     "name": "stdout",
     "output_type": "stream",
     "text": [
      "tensor([[7]])\n"
     ]
    }
   ],
   "source": [
    "top_p, top_class = ps.topk(1, dim=1)\n",
    "# Look at the most likely classes for the first 10 examples\n",
    "print(top_class[:10,:])"
   ]
  },
  {
   "cell_type": "code",
   "execution_count": 57,
   "metadata": {},
   "outputs": [
    {
     "ename": "RuntimeError",
     "evalue": "shape '[1, 1]' is invalid for input of size 64",
     "output_type": "error",
     "traceback": [
      "\u001b[1;31m---------------------------------------------------------------------------\u001b[0m",
      "\u001b[1;31mRuntimeError\u001b[0m                              Traceback (most recent call last)",
      "\u001b[1;32md:\\AI-Course\\AI-Engineering\\fashion_challenge\\test_samples\\testing.ipynb Cell 12'\u001b[0m in \u001b[0;36m<module>\u001b[1;34m\u001b[0m\n\u001b[1;32m----> <a href='vscode-notebook-cell:/d%3A/AI-Course/AI-Engineering/fashion_challenge/test_samples/testing.ipynb#ch0000010?line=0'>1</a>\u001b[0m equals \u001b[39m=\u001b[39m top_class \u001b[39m==\u001b[39m labels\u001b[39m.\u001b[39;49mview(\u001b[39m*\u001b[39;49mtop_class\u001b[39m.\u001b[39;49mshape)\n",
      "\u001b[1;31mRuntimeError\u001b[0m: shape '[1, 1]' is invalid for input of size 64"
     ]
    }
   ],
   "source": [
    "equals = top_class == labels.view(*top_class.shape)"
   ]
  },
  {
   "cell_type": "code",
   "execution_count": 58,
   "metadata": {},
   "outputs": [
    {
     "ename": "NameError",
     "evalue": "name 'equals' is not defined",
     "output_type": "error",
     "traceback": [
      "\u001b[1;31m---------------------------------------------------------------------------\u001b[0m",
      "\u001b[1;31mNameError\u001b[0m                                 Traceback (most recent call last)",
      "\u001b[1;32md:\\AI-Course\\AI-Engineering\\fashion_challenge\\test_samples\\testing.ipynb Cell 13'\u001b[0m in \u001b[0;36m<module>\u001b[1;34m\u001b[0m\n\u001b[1;32m----> <a href='vscode-notebook-cell:/d%3A/AI-Course/AI-Engineering/fashion_challenge/test_samples/testing.ipynb#ch0000011?line=0'>1</a>\u001b[0m misclassified \u001b[39m=\u001b[39m [index \u001b[39mfor\u001b[39;00m index,value \u001b[39min\u001b[39;00m \u001b[39menumerate\u001b[39m(equals) \u001b[39mif\u001b[39;00m value\u001b[39m.\u001b[39mitem() \u001b[39mis\u001b[39;00m \u001b[39mFalse\u001b[39;00m]\n",
      "\u001b[1;31mNameError\u001b[0m: name 'equals' is not defined"
     ]
    }
   ],
   "source": [
    "misclassified = [index for index,value in enumerate(equals) if value.item() is False] "
   ]
  },
  {
   "cell_type": "code",
   "execution_count": 59,
   "metadata": {},
   "outputs": [
    {
     "ename": "NameError",
     "evalue": "name 'equals' is not defined",
     "output_type": "error",
     "traceback": [
      "\u001b[1;31m---------------------------------------------------------------------------\u001b[0m",
      "\u001b[1;31mNameError\u001b[0m                                 Traceback (most recent call last)",
      "\u001b[1;32md:\\AI-Course\\AI-Engineering\\fashion_challenge\\test_samples\\testing.ipynb Cell 14'\u001b[0m in \u001b[0;36m<module>\u001b[1;34m\u001b[0m\n\u001b[1;32m----> <a href='vscode-notebook-cell:/d%3A/AI-Course/AI-Engineering/fashion_challenge/test_samples/testing.ipynb#ch0000012?line=0'>1</a>\u001b[0m accuracy \u001b[39m=\u001b[39m torch\u001b[39m.\u001b[39mmean(equals\u001b[39m.\u001b[39mtype(torch\u001b[39m.\u001b[39mFloatTensor))\n\u001b[0;32m      <a href='vscode-notebook-cell:/d%3A/AI-Course/AI-Engineering/fashion_challenge/test_samples/testing.ipynb#ch0000012?line=1'>2</a>\u001b[0m \u001b[39mprint\u001b[39m(\u001b[39mf\u001b[39m\u001b[39m'\u001b[39m\u001b[39mAccuracy: \u001b[39m\u001b[39m{\u001b[39;00maccuracy\u001b[39m.\u001b[39mitem()\u001b[39m*\u001b[39m\u001b[39m100\u001b[39m\u001b[39m}\u001b[39;00m\u001b[39m%\u001b[39m\u001b[39m'\u001b[39m)\n",
      "\u001b[1;31mNameError\u001b[0m: name 'equals' is not defined"
     ]
    }
   ],
   "source": [
    "accuracy = torch.mean(equals.type(torch.FloatTensor))\n",
    "print(f'Accuracy: {accuracy.item()*100}%')"
   ]
  },
  {
   "cell_type": "code",
   "execution_count": 60,
   "metadata": {},
   "outputs": [],
   "source": [
    "torch.save(model.state_dict(), 'checkpoint.pth')"
   ]
  },
  {
   "cell_type": "code",
   "execution_count": 61,
   "metadata": {},
   "outputs": [
    {
     "name": "stdout",
     "output_type": "stream",
     "text": [
      "odict_keys(['fc1.weight', 'fc1.bias', 'fc2.weight', 'fc2.bias', 'fc3.weight', 'fc3.bias', 'fc4.weight', 'fc4.bias'])\n"
     ]
    }
   ],
   "source": [
    "state_dict = torch.load('checkpoint.pth')\n",
    "print(state_dict.keys())"
   ]
  },
  {
   "cell_type": "code",
   "execution_count": 62,
   "metadata": {},
   "outputs": [
    {
     "data": {
      "text/plain": [
       "<All keys matched successfully>"
      ]
     },
     "execution_count": 62,
     "metadata": {},
     "output_type": "execute_result"
    }
   ],
   "source": [
    "model.load_state_dict(state_dict)"
   ]
  },
  {
   "cell_type": "code",
   "execution_count": 102,
   "metadata": {},
   "outputs": [
    {
     "name": "stderr",
     "output_type": "stream",
     "text": [
      "C:\\Users\\shahi\\AppData\\Local\\Temp\\ipykernel_9492\\2853485193.py:21: UserWarning: Implicit dimension choice for log_softmax has been deprecated. Change the call to include dim=X as an argument.\n",
      "  x = F.log_softmax(x)\n"
     ]
    },
    {
     "data": {
      "image/png": "[encoded data removed]",
      "text/plain": [
       "<Figure size 432x648 with 2 Axes>"
      ]
     },
     "metadata": {
      "image/png": {
       "height": 216,
       "width": 424
      },
      "needs_background": "light"
     },
     "output_type": "display_data"
    }
   ],
   "source": [
    "\n",
    "dataiter = iter(testloader)\n",
    "images, labels = dataiter.next()\n",
    "img = images[63]\n",
    "\n",
    "ps = model(img)\n",
    "ps = torch.exp(ps)\n",
    "\n",
    "view_classify(img, ps, version='Fashion')"
   ]
  }
 ],
 "metadata": {
  "interpreter": {
   "hash": "2a136b98596916a9fced8d013399397d75a11ee2601f2ee1b13714ddc0972e81"
  },
  "kernelspec": {
   "display_name": "Python 3.8.12 ('deeplearning')",
   "language": "python",
   "name": "python3"
  },
  "language_info": {
   "codemirror_mode": {
    "name": "ipython",
    "version": 3
   },
   "file_extension": ".py",
   "mimetype": "text/x-python",
   "name": "python",
   "nbconvert_exporter": "python",
   "pygments_lexer": "ipython3",
   "version": "3.8.12"
  },
  "orig_nbformat": 4
 },
 "nbformat": 4,
 "nbformat_minor": 2
}
